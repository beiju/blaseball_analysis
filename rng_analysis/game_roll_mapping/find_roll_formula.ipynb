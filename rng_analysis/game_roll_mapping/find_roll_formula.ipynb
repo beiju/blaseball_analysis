{
 "cells": [
  {
   "cell_type": "code",
   "execution_count": 85,
   "metadata": {
    "collapsed": true,
    "pycharm": {
     "name": "#%%\n"
    }
   },
   "outputs": [],
   "source": [
    "import glob\n",
    "\n",
    "import pandas as pd\n",
    "import matplotlib.pyplot as plt\n",
    "from matplotlib.markers import CARETLEFTBASE, CARETRIGHTBASE\n",
    "\n",
    "all_files = glob.glob(\"roll_data/*-strikes.csv\")\n",
    "\n",
    "df = pd.concat((pd.read_csv(f) for f in all_files), ignore_index=True)"
   ]
  },
  {
   "cell_type": "code",
   "execution_count": 86,
   "metadata": {
    "pycharm": {
     "name": "#%%\n"
    }
   },
   "outputs": [
    {
     "data": {
      "text/plain": "<matplotlib.legend.Legend at 0x7f801c09f280>"
     },
     "execution_count": 86,
     "metadata": {},
     "output_type": "execute_result"
    },
    {
     "data": {
      "text/plain": "<Figure size 432x288 with 1 Axes>",
      "image/png": "[encoded data removed]"
     },
     "metadata": {
      "needs_background": "light"
     },
     "output_type": "display_data"
    }
   ],
   "source": [
    "df['astrid_svc'] = 0.375 + 0.25 * df[\"pitcher_ruthlessness\"] + 0.035 * df[\"pitcher_coldness\"] - 0.2 * df[\"ballpark_forwardness\"]\n",
    "df['batter_strikeattr'] = df['batter_moxie'] * ~df['passed'] + df['batter_patheticism'] * df['passed']\n",
    "df['ruth_and_fwd'] = df['pitcher_ruthlessness'] - 0.5 * df['ballpark_forwardness']\n",
    "\n",
    "df = df[(df[\"batting_team_hype\"] == 0) & (df['pitching_team_hype'] == 0)]\n",
    "\n",
    "x_val = \"pitching_team_hype\"\n",
    "fig, ax = plt.subplots(1)\n",
    "ax.scatter(df[~df['passed']][x_val], df[~df['passed']][\"roll\"], color=\"red\", label=\"Balls\", marker=CARETLEFTBASE)\n",
    "ax.scatter(df[df['passed']][x_val], df[df['passed']][\"roll\"], color=\"blue\", label=\"Strikes\", marker=CARETRIGHTBASE)\n",
    "ax.set_xlabel(x_val)\n",
    "ax.set_ylabel('roll')\n",
    "ax.legend()\n",
    "\n",
    "# endpoints = np.array(ax.get_xlim())\n",
    "# ax.plot(endpoints, 0.35 + 0.35 * endpoints)"
   ]
  },
  {
   "cell_type": "code",
   "execution_count": 87,
   "metadata": {
    "pycharm": {
     "name": "#%%\n"
    }
   },
   "outputs": [
    {
     "data": {
      "text/plain": "      pitcher_ruthlessness         pitcher_name\n1701              0.400135        Axel Cardenas\n2583              0.440357        Joshua Watson\n2156              0.564919  Patchwork Southwick\n1                 0.740309       Grollis Zephyr\n1807              0.864538        Inky Rutledge\n1336              0.917466      Kennedy Rodgers\n2611              0.954493    Cudi Di Batterino\n2178              0.987573    Cravel Gesundheit\n3023              1.115507       Jacoby Podcast\n0                 1.141035          Cory Twelve\n2142              1.144852       Gloria Bugsnax\n3012              1.256585         Brock Forbes\n1343              1.281467    Coolname Galvanic\n2143              1.452921        Snyder Briggs",
      "text/html": "<div>\n<style scoped>\n    .dataframe tbody tr th:only-of-type {\n        vertical-align: middle;\n    }\n\n    .dataframe tbody tr th {\n        vertical-align: top;\n    }\n\n    .dataframe thead th {\n        text-align: right;\n    }\n</style>\n<table border=\"1\" class=\"dataframe\">\n  <thead>\n    <tr style=\"text-align: right;\">\n      <th></th>\n      <th>pitcher_ruthlessness</th>\n      <th>pitcher_name</th>\n    </tr>\n  </thead>\n  <tbody>\n    <tr>\n      <th>1701</th>\n      <td>0.400135</td>\n      <td>Axel Cardenas</td>\n    </tr>\n    <tr>\n      <th>2583</th>\n      <td>0.440357</td>\n      <td>Joshua Watson</td>\n    </tr>\n    <tr>\n      <th>2156</th>\n      <td>0.564919</td>\n      <td>Patchwork Southwick</td>\n    </tr>\n    <tr>\n      <th>1</th>\n      <td>0.740309</td>\n      <td>Grollis Zephyr</td>\n    </tr>\n    <tr>\n      <th>1807</th>\n      <td>0.864538</td>\n      <td>Inky Rutledge</td>\n    </tr>\n    <tr>\n      <th>1336</th>\n      <td>0.917466</td>\n      <td>Kennedy Rodgers</td>\n    </tr>\n    <tr>\n      <th>2611</th>\n      <td>0.954493</td>\n      <td>Cudi Di Batterino</td>\n    </tr>\n    <tr>\n      <th>2178</th>\n      <td>0.987573</td>\n      <td>Cravel Gesundheit</td>\n    </tr>\n    <tr>\n      <th>3023</th>\n      <td>1.115507</td>\n      <td>Jacoby Podcast</td>\n    </tr>\n    <tr>\n      <th>0</th>\n      <td>1.141035</td>\n      <td>Cory Twelve</td>\n    </tr>\n    <tr>\n      <th>2142</th>\n      <td>1.144852</td>\n      <td>Gloria Bugsnax</td>\n    </tr>\n    <tr>\n      <th>3012</th>\n      <td>1.256585</td>\n      <td>Brock Forbes</td>\n    </tr>\n    <tr>\n      <th>1343</th>\n      <td>1.281467</td>\n      <td>Coolname Galvanic</td>\n    </tr>\n    <tr>\n      <th>2143</th>\n      <td>1.452921</td>\n      <td>Snyder Briggs</td>\n    </tr>\n  </tbody>\n</table>\n</div>"
     },
     "execution_count": 87,
     "metadata": {},
     "output_type": "execute_result"
    }
   ],
   "source": [
    "df.groupby('pitcher_ruthlessness').head(1)[['pitcher_ruthlessness', 'pitcher_name']].sort_values('pitcher_ruthlessness')"
   ]
  },
  {
   "cell_type": "code",
   "execution_count": 88,
   "metadata": {
    "pycharm": {
     "name": "#%%\n"
    }
   },
   "outputs": [
    {
     "data": {
      "text/plain": "batter_name         pitcher_name       \n--l-xa-dre- Walton  Joshua Watson           5\n-rancisco P-eston   Snyder Briggs           3\nAndrew Solis        Brock Forbes            9\n                    Gloria Bugsnax          5\nBaby Triumphant     Coolname Galvanic       5\n                                           ..\nYusef Fenestrate    Axel Cardenas           9\n                    Joshua Watson          11\n                    Kennedy Rodgers        10\nZesty Yaboi         Jacoby Podcast          5\n                    Patchwork Southwick     1\nLength: 120, dtype: int64"
     },
     "execution_count": 88,
     "metadata": {},
     "output_type": "execute_result"
    }
   ],
   "source": [
    "df.groupby(['batter_name', 'pitcher_name']).size()"
   ]
  },
  {
   "cell_type": "code",
   "execution_count": 89,
   "outputs": [],
   "source": [
    "X = df[['roll', *df.columns[5:-3]]].drop('pitcher_name', 1)\n",
    "y = df['passed']"
   ],
   "metadata": {
    "collapsed": false,
    "pycharm": {
     "name": "#%%\n"
    }
   }
  },
  {
   "cell_type": "code",
   "execution_count": 90,
   "outputs": [
    {
     "data": {
      "text/plain": "          roll  batter_buoyancy  batter_divinity  batter_martyrdom  \\\n0     0.902342         0.491996         0.959339          0.827843   \n1     0.421915         1.100462         0.538089          0.445441   \n2     0.906463         1.100462         0.538089          0.445441   \n3     0.215010         1.072733         1.227810          1.366116   \n4     0.079062         0.901559         1.381520          1.257375   \n...        ...              ...              ...               ...   \n3284  0.598074         0.865789         0.200095          0.214609   \n3286  0.617896         0.865789         0.200095          0.214609   \n3287  0.773851         0.865789         0.200095          0.214609   \n3289  0.198901         0.677739         0.468294          1.032871   \n3293  0.115892         0.640462         0.365675          0.041000   \n\n      batter_moxie  batter_musclitude  batter_patheticism  \\\n0         0.507553           0.734665            0.715625   \n1         0.576060           0.662984            0.642349   \n2         0.576060           0.662984            0.642349   \n3         0.921646           0.537297            0.245965   \n4         1.529352           1.386227            0.466502   \n...            ...                ...                 ...   \n3284      0.709758           0.979221            0.001000   \n3286      0.709758           0.979221            0.001000   \n3287      0.709758           0.979221            0.001000   \n3289      0.891541           0.156073            0.152321   \n3293      0.041000           0.175304            0.920239   \n\n      batter_thwackability  batter_tragicness  pitcher_ruthlessness  ...  \\\n0                 0.509030           0.752282              1.141035  ...   \n1                 0.456643           0.106050              0.740309  ...   \n2                 0.456643           0.106050              0.740309  ...   \n3                 1.035652           0.001050              0.740309  ...   \n4                 0.910938           0.001050              0.740309  ...   \n...                    ...                ...                   ...  ...   \n3284              0.252340           0.652839              1.256585  ...   \n3286              0.252340           0.652839              1.256585  ...   \n3287              0.252340           0.652839              1.256585  ...   \n3289              0.801351           0.181799              1.256585  ...   \n3293              0.574027           0.260000              1.256585  ...   \n\n      ballpark_ominousness  ballpark_inconvenience  ballpark_viscosity  \\\n0                 0.491609                0.582938            0.400827   \n1                 0.491609                0.582938            0.400827   \n2                 0.491609                0.582938            0.400827   \n3                 0.491609                0.582938            0.400827   \n4                 0.491609                0.582938            0.400827   \n...                    ...                     ...                 ...   \n3284              0.491609                0.582938            0.400827   \n3286              0.491609                0.582938            0.400827   \n3287              0.491609                0.582938            0.400827   \n3289              0.491609                0.582938            0.400827   \n3293              0.491609                0.582938            0.400827   \n\n      ballpark_forwardness  ballpark_mysticism  ballpark_elongation  \\\n0                 0.485645            0.575444              0.46963   \n1                 0.485645            0.575444              0.46963   \n2                 0.485645            0.575444              0.46963   \n3                 0.485645            0.575444              0.46963   \n4                 0.485645            0.575444              0.46963   \n...                    ...                 ...                  ...   \n3284              0.485645            0.575444              0.46963   \n3286              0.485645            0.575444              0.46963   \n3287              0.485645            0.575444              0.46963   \n3289              0.485645            0.575444              0.46963   \n3293              0.485645            0.575444              0.46963   \n\n      batting_team_hype  pitching_team_hype  batter_vibes  pitcher_vibes  \n0                   0.0                 0.0      0.005206      -0.036822  \n1                   0.0                 0.0     -0.189957      -0.080333  \n2                   0.0                 0.0     -0.189957      -0.080333  \n3                   0.0                 0.0     -0.400412      -0.080333  \n4                   0.0                 0.0      1.005275      -0.080333  \n...                 ...                 ...           ...            ...  \n3284                0.0                 0.0      0.287308       0.341234  \n3286                0.0                 0.0      0.287308       0.341234  \n3287                0.0                 0.0      0.287308       0.341234  \n3289                0.0                 0.0      0.554682       0.341234  \n3293                0.0                 0.0      0.430535       0.341234  \n\n[678 rows x 34 columns]",
      "text/html": "<div>\n<style scoped>\n    .dataframe tbody tr th:only-of-type {\n        vertical-align: middle;\n    }\n\n    .dataframe tbody tr th {\n        vertical-align: top;\n    }\n\n    .dataframe thead th {\n        text-align: right;\n    }\n</style>\n<table border=\"1\" class=\"dataframe\">\n  <thead>\n    <tr style=\"text-align: right;\">\n      <th></th>\n      <th>roll</th>\n      <th>batter_buoyancy</th>\n      <th>batter_divinity</th>\n      <th>batter_martyrdom</th>\n      <th>batter_moxie</th>\n      <th>batter_musclitude</th>\n      <th>batter_patheticism</th>\n      <th>batter_thwackability</th>\n      <th>batter_tragicness</th>\n      <th>pitcher_ruthlessness</th>\n      <th>...</th>\n      <th>ballpark_ominousness</th>\n      <th>ballpark_inconvenience</th>\n      <th>ballpark_viscosity</th>\n      <th>ballpark_forwardness</th>\n      <th>ballpark_mysticism</th>\n      <th>ballpark_elongation</th>\n      <th>batting_team_hype</th>\n      <th>pitching_team_hype</th>\n      <th>batter_vibes</th>\n      <th>pitcher_vibes</th>\n    </tr>\n  </thead>\n  <tbody>\n    <tr>\n      <th>0</th>\n      <td>0.902342</td>\n      <td>0.491996</td>\n      <td>0.959339</td>\n      <td>0.827843</td>\n      <td>0.507553</td>\n      <td>0.734665</td>\n      <td>0.715625</td>\n      <td>0.509030</td>\n      <td>0.752282</td>\n      <td>1.141035</td>\n      <td>...</td>\n      <td>0.491609</td>\n      <td>0.582938</td>\n      <td>0.400827</td>\n      <td>0.485645</td>\n      <td>0.575444</td>\n      <td>0.46963</td>\n      <td>0.0</td>\n      <td>0.0</td>\n      <td>0.005206</td>\n      <td>-0.036822</td>\n    </tr>\n    <tr>\n      <th>1</th>\n      <td>0.421915</td>\n      <td>1.100462</td>\n      <td>0.538089</td>\n      <td>0.445441</td>\n      <td>0.576060</td>\n      <td>0.662984</td>\n      <td>0.642349</td>\n      <td>0.456643</td>\n      <td>0.106050</td>\n      <td>0.740309</td>\n      <td>...</td>\n      <td>0.491609</td>\n      <td>0.582938</td>\n      <td>0.400827</td>\n      <td>0.485645</td>\n      <td>0.575444</td>\n      <td>0.46963</td>\n      <td>0.0</td>\n      <td>0.0</td>\n      <td>-0.189957</td>\n      <td>-0.080333</td>\n    </tr>\n    <tr>\n      <th>2</th>\n      <td>0.906463</td>\n      <td>1.100462</td>\n      <td>0.538089</td>\n      <td>0.445441</td>\n      <td>0.576060</td>\n      <td>0.662984</td>\n      <td>0.642349</td>\n      <td>0.456643</td>\n      <td>0.106050</td>\n      <td>0.740309</td>\n      <td>...</td>\n      <td>0.491609</td>\n      <td>0.582938</td>\n      <td>0.400827</td>\n      <td>0.485645</td>\n      <td>0.575444</td>\n      <td>0.46963</td>\n      <td>0.0</td>\n      <td>0.0</td>\n      <td>-0.189957</td>\n      <td>-0.080333</td>\n    </tr>\n    <tr>\n      <th>3</th>\n      <td>0.215010</td>\n      <td>1.072733</td>\n      <td>1.227810</td>\n      <td>1.366116</td>\n      <td>0.921646</td>\n      <td>0.537297</td>\n      <td>0.245965</td>\n      <td>1.035652</td>\n      <td>0.001050</td>\n      <td>0.740309</td>\n      <td>...</td>\n      <td>0.491609</td>\n      <td>0.582938</td>\n      <td>0.400827</td>\n      <td>0.485645</td>\n      <td>0.575444</td>\n      <td>0.46963</td>\n      <td>0.0</td>\n      <td>0.0</td>\n      <td>-0.400412</td>\n      <td>-0.080333</td>\n    </tr>\n    <tr>\n      <th>4</th>\n      <td>0.079062</td>\n      <td>0.901559</td>\n      <td>1.381520</td>\n      <td>1.257375</td>\n      <td>1.529352</td>\n      <td>1.386227</td>\n      <td>0.466502</td>\n      <td>0.910938</td>\n      <td>0.001050</td>\n      <td>0.740309</td>\n      <td>...</td>\n      <td>0.491609</td>\n      <td>0.582938</td>\n      <td>0.400827</td>\n      <td>0.485645</td>\n      <td>0.575444</td>\n      <td>0.46963</td>\n      <td>0.0</td>\n      <td>0.0</td>\n      <td>1.005275</td>\n      <td>-0.080333</td>\n    </tr>\n    <tr>\n      <th>...</th>\n      <td>...</td>\n      <td>...</td>\n      <td>...</td>\n      <td>...</td>\n      <td>...</td>\n      <td>...</td>\n      <td>...</td>\n      <td>...</td>\n      <td>...</td>\n      <td>...</td>\n      <td>...</td>\n      <td>...</td>\n      <td>...</td>\n      <td>...</td>\n      <td>...</td>\n      <td>...</td>\n      <td>...</td>\n      <td>...</td>\n      <td>...</td>\n      <td>...</td>\n      <td>...</td>\n    </tr>\n    <tr>\n      <th>3284</th>\n      <td>0.598074</td>\n      <td>0.865789</td>\n      <td>0.200095</td>\n      <td>0.214609</td>\n      <td>0.709758</td>\n      <td>0.979221</td>\n      <td>0.001000</td>\n      <td>0.252340</td>\n      <td>0.652839</td>\n      <td>1.256585</td>\n      <td>...</td>\n      <td>0.491609</td>\n      <td>0.582938</td>\n      <td>0.400827</td>\n      <td>0.485645</td>\n      <td>0.575444</td>\n      <td>0.46963</td>\n      <td>0.0</td>\n      <td>0.0</td>\n      <td>0.287308</td>\n      <td>0.341234</td>\n    </tr>\n    <tr>\n      <th>3286</th>\n      <td>0.617896</td>\n      <td>0.865789</td>\n      <td>0.200095</td>\n      <td>0.214609</td>\n      <td>0.709758</td>\n      <td>0.979221</td>\n      <td>0.001000</td>\n      <td>0.252340</td>\n      <td>0.652839</td>\n      <td>1.256585</td>\n      <td>...</td>\n      <td>0.491609</td>\n      <td>0.582938</td>\n      <td>0.400827</td>\n      <td>0.485645</td>\n      <td>0.575444</td>\n      <td>0.46963</td>\n      <td>0.0</td>\n      <td>0.0</td>\n      <td>0.287308</td>\n      <td>0.341234</td>\n    </tr>\n    <tr>\n      <th>3287</th>\n      <td>0.773851</td>\n      <td>0.865789</td>\n      <td>0.200095</td>\n      <td>0.214609</td>\n      <td>0.709758</td>\n      <td>0.979221</td>\n      <td>0.001000</td>\n      <td>0.252340</td>\n      <td>0.652839</td>\n      <td>1.256585</td>\n      <td>...</td>\n      <td>0.491609</td>\n      <td>0.582938</td>\n      <td>0.400827</td>\n      <td>0.485645</td>\n      <td>0.575444</td>\n      <td>0.46963</td>\n      <td>0.0</td>\n      <td>0.0</td>\n      <td>0.287308</td>\n      <td>0.341234</td>\n    </tr>\n    <tr>\n      <th>3289</th>\n      <td>0.198901</td>\n      <td>0.677739</td>\n      <td>0.468294</td>\n      <td>1.032871</td>\n      <td>0.891541</td>\n      <td>0.156073</td>\n      <td>0.152321</td>\n      <td>0.801351</td>\n      <td>0.181799</td>\n      <td>1.256585</td>\n      <td>...</td>\n      <td>0.491609</td>\n      <td>0.582938</td>\n      <td>0.400827</td>\n      <td>0.485645</td>\n      <td>0.575444</td>\n      <td>0.46963</td>\n      <td>0.0</td>\n      <td>0.0</td>\n      <td>0.554682</td>\n      <td>0.341234</td>\n    </tr>\n    <tr>\n      <th>3293</th>\n      <td>0.115892</td>\n      <td>0.640462</td>\n      <td>0.365675</td>\n      <td>0.041000</td>\n      <td>0.041000</td>\n      <td>0.175304</td>\n      <td>0.920239</td>\n      <td>0.574027</td>\n      <td>0.260000</td>\n      <td>1.256585</td>\n      <td>...</td>\n      <td>0.491609</td>\n      <td>0.582938</td>\n      <td>0.400827</td>\n      <td>0.485645</td>\n      <td>0.575444</td>\n      <td>0.46963</td>\n      <td>0.0</td>\n      <td>0.0</td>\n      <td>0.430535</td>\n      <td>0.341234</td>\n    </tr>\n  </tbody>\n</table>\n<p>678 rows × 34 columns</p>\n</div>"
     },
     "execution_count": 90,
     "metadata": {},
     "output_type": "execute_result"
    }
   ],
   "source": [
    "X"
   ],
   "metadata": {
    "collapsed": false,
    "pycharm": {
     "name": "#%%\n"
    }
   }
  },
  {
   "cell_type": "code",
   "execution_count": 91,
   "outputs": [],
   "source": [
    "from sklearn.model_selection import train_test_split\n",
    "from sklearn.preprocessing import StandardScaler\n",
    "\n",
    "X_train, X_test, y_train, y_test = train_test_split(X, y, test_size=0.2, random_state=0)\n",
    "sc = StandardScaler()\n",
    "X_train = sc.fit_transform(X_train)\n",
    "X_test = sc.transform(X_test)"
   ],
   "metadata": {
    "collapsed": false,
    "pycharm": {
     "name": "#%%\n"
    }
   }
  },
  {
   "cell_type": "code",
   "execution_count": 92,
   "outputs": [
    {
     "name": "stdout",
     "output_type": "stream",
     "text": [
      "[[73  2]\n",
      " [ 9 52]]\n",
      "              precision    recall  f1-score   support\n",
      "\n",
      "       False       0.89      0.97      0.93        75\n",
      "        True       0.96      0.85      0.90        61\n",
      "\n",
      "    accuracy                           0.92       136\n",
      "   macro avg       0.93      0.91      0.92       136\n",
      "weighted avg       0.92      0.92      0.92       136\n",
      "\n"
     ]
    }
   ],
   "source": [
    "from sklearn.metrics import confusion_matrix\n",
    "from sklearn.metrics import classification_report\n",
    "from sklearn import svm\n",
    "trainedsvm = svm.SVC(kernel='linear').fit(X_train, y_train)\n",
    "predictionsvm = trainedsvm.predict(X_test)\n",
    "print(confusion_matrix(y_test,predictionsvm))\n",
    "print(classification_report(y_test,predictionsvm))\n"
   ],
   "metadata": {
    "collapsed": false,
    "pycharm": {
     "name": "#%%\n"
    }
   }
  },
  {
   "cell_type": "code",
   "execution_count": 93,
   "outputs": [],
   "source": [
    "import numpy as np\n",
    "\n",
    "coef = np.true_divide(trainedsvm.coef_,  sc.scale_)\n",
    "coef_scaled = coef / coef[0, 0]\n",
    "coef_list = coef_scaled.tolist()[0]"
   ],
   "metadata": {
    "collapsed": false,
    "pycharm": {
     "name": "#%%\n"
    }
   }
  },
  {
   "cell_type": "code",
   "execution_count": 94,
   "outputs": [
    {
     "data": {
      "text/plain": "[(-1.0836344594142662, 'defense_avg_chasiness'),\n (1.0, 'roll'),\n (-0.5851438067106041, 'ballpark_ominousness'),\n (0.4671452410423561, 'defense_avg_anticapitalism'),\n (0.3943016316038567, 'ballpark_viscosity'),\n (-0.3791875223190721, 'pitcher_ruthlessness'),\n (-0.37875371351579773, 'ballpark_inconvenience'),\n (-0.34674901820314386, 'defense_avg_omniscience'),\n (0.18456541819555045, 'ballpark_grandiosity'),\n (0.17730915522092325, 'defense_avg_tenaciousness'),\n (-0.13206073044840463, 'pitcher_unthwackability'),\n (0.12405136375825364, 'pitcher_suppression'),\n (-0.11835344391148576, 'pitcher_coldness'),\n (0.10746779223033007, 'batter_moxie'),\n (-0.10688488245023875, 'pitcher_vibes'),\n (0.0910645658271944, 'ballpark_elongation'),\n (0.08831452133215804, 'defense_avg_watchfulness'),\n (0.08097189496734895, 'batter_thwackability'),\n (-0.08049076447794218, 'ballpark_mysticism'),\n (-0.06369068732905098, 'batter_musclitude'),\n (0.05812615769311966, 'ballpark_forwardness'),\n (-0.05689458894729468, 'pitcher_chasiness'),\n (-0.055840072811968705, 'ballpark_fortification'),\n (0.03408366167308257, 'batter_tragicness'),\n (0.031142491743651878, 'batter_buoyancy'),\n (0.028559365449097526, 'batter_patheticism'),\n (-0.01878083588474186, 'batter_martyrdom'),\n (-0.018030647484553134, 'pitcher_shakespearianism'),\n (0.00935563821416057, 'batter_divinity'),\n (-0.0076980725857965365, 'pitcher_overpowerment'),\n (-0.0024363870746852674, 'batter_vibes'),\n (0.00142191582592972, 'ballpark_obtuseness'),\n (-0.0, 'batting_team_hype'),\n (-0.0, 'pitching_team_hype')]"
     },
     "execution_count": 94,
     "metadata": {},
     "output_type": "execute_result"
    }
   ],
   "source": [
    "sorted(zip(coef_list, X.columns), key=lambda x: abs(x[0]), reverse=True)"
   ],
   "metadata": {
    "collapsed": false,
    "pycharm": {
     "name": "#%%\n"
    }
   }
  },
  {
   "cell_type": "code",
   "execution_count": 95,
   "outputs": [
    {
     "data": {
      "text/plain": "array([0.50828318])"
     },
     "execution_count": 95,
     "metadata": {},
     "output_type": "execute_result"
    }
   ],
   "source": [
    "intercept = trainedsvm.intercept_ - np.dot(coef, sc.mean_)\n",
    "intercept / coef[0, 0]"
   ],
   "metadata": {
    "collapsed": false,
    "pycharm": {
     "name": "#%%\n"
    }
   }
  },
  {
   "cell_type": "code",
   "execution_count": 96,
   "outputs": [
    {
     "data": {
      "text/plain": "array([[-0.08668201,  0.74450901,  0.83323865,  0.79898964,  0.62716354,\n         0.75512204,  0.34681639,  0.68729374,  0.19815087,  1.28306392,\n         0.86433319,  1.03843546,  0.72430177,  0.44698438,  0.95119008,\n         0.85228992,  0.6923314 ,  0.87568536,  0.71613858,  0.64143456,\n         0.66156792,  0.46887589,  0.6105607 ,  0.67578268,  0.47853857,\n         0.52162508,  0.44779143,  0.47806482,  0.45669776,  0.52486325,\n         0.        ,  0.        ,  0.05324931,  0.34128045]])"
     },
     "execution_count": 96,
     "metadata": {},
     "output_type": "execute_result"
    }
   ],
   "source": [
    "sc.inverse_transform(trainedsvm.coef_)"
   ],
   "metadata": {
    "collapsed": false,
    "pycharm": {
     "name": "#%%\n"
    }
   }
  },
  {
   "cell_type": "code",
   "execution_count": 96,
   "outputs": [],
   "source": [],
   "metadata": {
    "collapsed": false,
    "pycharm": {
     "name": "#%%\n"
    }
   }
  }
 ],
 "metadata": {
  "kernelspec": {
   "display_name": "Python 3 (ipykernel)",
   "language": "python",
   "name": "python3"
  },
  "language_info": {
   "codemirror_mode": {
    "name": "ipython",
    "version": 3
   },
   "file_extension": ".py",
   "mimetype": "text/x-python",
   "name": "python",
   "nbconvert_exporter": "python",
   "pygments_lexer": "ipython3",
   "version": "3.8.10"
  }
 },
 "nbformat": 4,
 "nbformat_minor": 1
}